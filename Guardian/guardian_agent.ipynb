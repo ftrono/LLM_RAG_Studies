{
 "cells": [
  {
   "cell_type": "markdown",
   "metadata": {},
   "source": [
    "## **Guardian Agent Test**"
   ]
  },
  {
   "cell_type": "code",
   "execution_count": 1,
   "metadata": {},
   "outputs": [],
   "source": [
    "import os\n",
    "from dotenv import load_dotenv, find_dotenv\n",
    "_ = load_dotenv(find_dotenv())\n",
    "cohere_api_key = os.environ[\"COHERE_API_KEY\"]\n",
    "guardian_api_key = os.environ[\"GUARDIAN_API_KEY\"]"
   ]
  },
  {
   "cell_type": "code",
   "execution_count": 2,
   "metadata": {},
   "outputs": [
    {
     "name": "stderr",
     "output_type": "stream",
     "text": [
      "USER_AGENT environment variable not set, consider setting it to identify your requests.\n"
     ]
    }
   ],
   "source": [
    "import bs4\n",
    "from langchain import hub\n",
    "from langchain_community.document_loaders import WebBaseLoader\n",
    "from langchain_community.vectorstores import Chroma\n",
    "from langchain_core.output_parsers import StrOutputParser\n",
    "from langchain_core.runnables import RunnablePassthrough\n",
    "from langchain_cohere import ChatCohere, CohereEmbeddings\n",
    "from langchain_text_splitters import RecursiveCharacterTextSplitter\n",
    "from datetime import datetime"
   ]
  },
  {
   "cell_type": "markdown",
   "metadata": {},
   "source": [
    "### **1) Get data** -> Guardian API"
   ]
  },
  {
   "cell_type": "code",
   "execution_count": 3,
   "metadata": {},
   "outputs": [],
   "source": [
    "results = []"
   ]
  },
  {
   "cell_type": "code",
   "execution_count": 4,
   "metadata": {},
   "outputs": [
    {
     "name": "stdout",
     "output_type": "stream",
     "text": [
      "10\n"
     ]
    }
   ],
   "source": [
    "import requests, json\n",
    "\n",
    "#1) us-news:\n",
    "request = requests.get(\n",
    "        \"https://content.guardianapis.com/search?tag=-tone/minutebyminute&section=us-news&show-fields=headline,trailText,body\",\n",
    "        headers={\"api-key\": guardian_api_key},\n",
    "        timeout=10\n",
    "    )\n",
    "\n",
    "results = request.json().get(\"response\", {}).get(\"results\", [])\n",
    "print(len(results))"
   ]
  },
  {
   "cell_type": "code",
   "execution_count": 5,
   "metadata": {},
   "outputs": [
    {
     "name": "stdout",
     "output_type": "stream",
     "text": [
      "20\n"
     ]
    }
   ],
   "source": [
    "#2) sport:\n",
    "request = requests.get(\n",
    "        \"https://content.guardianapis.com/search?tag=-tone/minutebyminute&section=sport&show-fields=headline,trailText,body\",\n",
    "        headers={\"api-key\": guardian_api_key},\n",
    "        timeout=10\n",
    "    )\n",
    "\n",
    "results += request.json().get(\"response\", {}).get(\"results\", [])\n",
    "print(len(results))"
   ]
  },
  {
   "cell_type": "code",
   "execution_count": 6,
   "metadata": {},
   "outputs": [
    {
     "name": "stdout",
     "output_type": "stream",
     "text": [
      "30\n"
     ]
    }
   ],
   "source": [
    "#3) football:\n",
    "request = requests.get(\n",
    "        \"https://content.guardianapis.com/search?tag=-tone/minutebyminute&section=football&show-fields=headline,trailText,body\",\n",
    "        headers={\"api-key\": guardian_api_key},\n",
    "        timeout=10\n",
    "    )\n",
    "\n",
    "results += request.json().get(\"response\", {}).get(\"results\", [])\n",
    "print(len(results))"
   ]
  },
  {
   "cell_type": "code",
   "execution_count": 7,
   "metadata": {},
   "outputs": [],
   "source": [
    "import html2text\n",
    "from cleantext import clean\n",
    "\n",
    "#HTML tags cleaner:\n",
    "text_maker = html2text.HTML2Text()\n",
    "text_maker.ignore_links = True\n",
    "\n",
    "#useful material:\n",
    "latest_articles = []\n",
    "\n",
    "#STORE & CLEAN:\n",
    "for i in range(len(results)):\n",
    "    res = results[i]\n",
    "    #HEADLINE:\n",
    "    headline = res.get(\"fields\", {}).get(\"headline\", \"\").lower()\n",
    "    headline = f\"{headline}. \" if headline != \"\" else headline\n",
    "    #TRAILTEXT:\n",
    "    trailtext = res.get(\"fields\", {}).get(\"trailText\", \"\").lower()\n",
    "    trailtext = f\"{trailtext}. \" if trailtext != \"\" else trailtext\n",
    "    #BODY:\n",
    "    body = res.get(\"fields\", {}).get(\"body\", \"\")\n",
    "    body = text_maker.handle(body)\n",
    "    body = clean(body, no_emoji=True)\n",
    "    body = body.replace(\">\", \"\").replace(\"\\n\\n\", \"###\").replace(\".\\n\", \".###\").replace(\"\\n\", \" \").replace(\"###\", \"\\n\")\n",
    "    results[i][\"fields\"][\"body\"] = body\n",
    "    #CONCATENATE:\n",
    "    latest_articles.append(f\"{headline}{trailtext}{body}\")\n"
   ]
  },
  {
   "cell_type": "code",
   "execution_count": 8,
   "metadata": {},
   "outputs": [],
   "source": [
    "json.dump(results, open(f\"{datetime.strftime(datetime.now(), '%Y-%m-%d_%H:%M')}test.json\", \"w\"))"
   ]
  },
  {
   "cell_type": "code",
   "execution_count": 9,
   "metadata": {},
   "outputs": [
    {
     "name": "stdout",
     "output_type": "stream",
     "text": [
      "30\n",
      "former pennsylvania fire chief identified as victim killed at trump rally. corey comperatore, 50, was a ‘hero’ who ‘had so much life left to experience’, his sister says. corey comperatore, a former fire chief of the buffalo township volunteer fire company in pennsylvania, has been identified as the victim who was shot and killed amidst an assassination attempt on former us president donald trump on saturday.\n",
      "\"he was a hero that shielded his daughters. his wife and girls just lived through the unthinkable and unimaginable,\" comperatore's sister, dawn comperatore schafer, said in a post on facebook.\n",
      "\"my baby brother just turned 50 and had so much life left to experience.\n",
      "hatred has no limits and love has no bounds. pray for my sister-in-law, nieces, my mother, sister, me and his nieces and nephews as this feels like a terrible nightmare but we know it is our painful reality.\" two other rally attendants were wounded.\n",
      "comperatore's wife and daughter described the scene at the rally, stating corey comperatore quickly moved to shield his family when the shots began.\n",
      "\"he shielded my body from the bullet that came at us. he loved his family. he truly loved us enough to take a real bullet for us,\" allyson comperatore, his daughter said in a facebook post.\n",
      "his wife, helen comperatore, added on facebook post: \"what my precious girls had to witness is unforgivable. what i had to was.\" a gofundme was started on behalf of his family, which had quickly exceeded its fundraising goal.\n",
      "according to his linkedin profile, comperatore worked as a project and tooling engineer at jsp, a plastics manufacturing firm in butler, pennsylvania.\n"
     ]
    }
   ],
   "source": [
    "print(len(latest_articles))\n",
    "print(latest_articles[0])"
   ]
  },
  {
   "cell_type": "markdown",
   "metadata": {},
   "source": [
    "### **2) Vectorize & prepare retriever**"
   ]
  },
  {
   "cell_type": "code",
   "execution_count": 10,
   "metadata": {},
   "outputs": [
    {
     "name": "stdout",
     "output_type": "stream",
     "text": [
      "page_content='former pennsylvania fire chief identified as victim killed at trump rally. corey comperatore, 50, was a ‘hero’ who ‘had so much life left to experience’, his sister says. corey comperatore, a former fire chief of the buffalo township volunteer fire company in pennsylvania, has been identified as the victim who was shot and killed amidst an assassination attempt on former us president donald trump on saturday.\n",
      "\"he was a hero that shielded his daughters. his wife and girls just lived through the unthinkable and unimaginable,\" comperatore's sister, dawn comperatore schafer, said in a post on facebook.\n",
      "\"my baby brother just turned 50 and had so much life left to experience.\n",
      "hatred has no limits and love has no bounds. pray for my sister-in-law, nieces, my mother, sister, me and his nieces and nephews as this feels like a terrible nightmare but we know it is our painful reality.\" two other rally attendants were wounded.' metadata={'start_index': 0}\n",
      "page_content='comperatore's wife and daughter described the scene at the rally, stating corey comperatore quickly moved to shield his family when the shots began.\n",
      "\"he shielded my body from the bullet that came at us. he loved his family. he truly loved us enough to take a real bullet for us,\" allyson comperatore, his daughter said in a facebook post.\n",
      "his wife, helen comperatore, added on facebook post: \"what my precious girls had to witness is unforgivable. what i had to was.\" a gofundme was started on behalf of his family, which had quickly exceeded its fundraising goal.\n",
      "according to his linkedin profile, comperatore worked as a project and tooling engineer at jsp, a plastics manufacturing firm in butler, pennsylvania.' metadata={'start_index': 929}\n"
     ]
    }
   ],
   "source": [
    "from langchain.document_loaders import TextLoader\n",
    "from langchain_text_splitters import RecursiveCharacterTextSplitter\n",
    "\n",
    "text_splitter = RecursiveCharacterTextSplitter(\n",
    "    chunk_size=1000, chunk_overlap=200, add_start_index=True\n",
    ")\n",
    "\n",
    "documents = text_splitter.create_documents(latest_articles)\n",
    "print(documents[0])\n",
    "print(documents[1])\n",
    "all_splits = text_splitter.split_documents(documents)\n"
   ]
  },
  {
   "cell_type": "code",
   "execution_count": 11,
   "metadata": {},
   "outputs": [],
   "source": [
    "from langchain_cohere import CohereEmbeddings\n",
    "from langchain_community.vectorstores import Chroma\n",
    "\n",
    "#Create Vector DB:\n",
    "vectorstore = Chroma.from_documents(documents=all_splits, embedding=CohereEmbeddings())"
   ]
  },
  {
   "cell_type": "code",
   "execution_count": 12,
   "metadata": {},
   "outputs": [],
   "source": [
    "#Init retriever:\n",
    "retriever = vectorstore.as_retriever(search_type=\"similarity\", search_kwargs={\"k\": 6})"
   ]
  },
  {
   "cell_type": "markdown",
   "metadata": {},
   "source": [
    "Test retriever:"
   ]
  },
  {
   "cell_type": "code",
   "execution_count": 13,
   "metadata": {},
   "outputs": [
    {
     "name": "stderr",
     "output_type": "stream",
     "text": [
      "Failed to get info from https://api.smith.langchain.com: LangSmithError('Failed to GET /info in LangSmith API. latin-1\\n…\\n0\\n1\\nordinal not in range(256)')\n",
      "Failed to batch ingest runs: LangSmithError('Failed to POST https://api.smith.langchain.com/runs/batch in LangSmith API. latin-1\\n…\\n0\\n1\\nordinal not in range(256)')\n"
     ]
    },
    {
     "data": {
      "text/plain": [
       "6"
      ]
     },
     "execution_count": 13,
     "metadata": {},
     "output_type": "execute_result"
    }
   ],
   "source": [
    "retrieved_docs = retriever.invoke(\"Is Donald Trump dead?\")\n",
    "len(retrieved_docs)"
   ]
  },
  {
   "cell_type": "code",
   "execution_count": 14,
   "metadata": {},
   "outputs": [
    {
     "name": "stdout",
     "output_type": "stream",
     "text": [
      "aides to trump's election campaign said on sunday morning that he was fine**,** in \"great spirits and doing well\".\n",
      "the former president called for national unity and resilience, in a country deeply divided amid the tumultuous 2024 election, where joe biden's re- election campaign as the presumptive democratic nominee has been thrown into crisis by his shaky performance while trump is expected to be anointed as the republican nominee at the party's convention this week with a hard-right agenda.\n",
      "trump posted on his social media platform: \"i knew immediately that something was wrong in that i heard a whizzing sound, shots, and immediately felt the bullet ripping through the skin ... much bleeding took place,\" then further posted on sunday that \"it is more important than ever that we stand united, and show our true character as americans, remaining strong and determined, and not allowing evil to win\", also adding that \"it was god alone who prevented the unthinkable from happening\".\n",
      "as trump clutched at his ear and ducked to the floor, a number of secret service agents raced to the stage to encircle and protect him. the presidential candidate lost his shoes in the confusion, and called to be reunited with them as he was bundled off to safety. but he also stuck out a raised fist and exhorted \"fight! fight!'\" to the crowd as press cameras furiously snapped photos.\n",
      "\"i was hoping it was just a prank, that it was a bad joke,\" rally attendee blake marnell, who was sat in the front row, told the guardian.\n",
      "trump, marnell said, was \"essentially being tackled to the ground by the secret service\".\n",
      "in a stand behind the stage from which trump was hauled spectators and medical personnel rushed to help those who were injured.\n",
      "\"i saw a man in the bleachers was hit directly in the head and died instantly,\" joseph meyn, a surgeon from grove city, pennsylvania, told cnn, describing a chaotic and bloody scene.\n",
      "other trump family members who have shared their reactions are his sons donald trump jr and eric trump.\n",
      "donald trump jr tweeted a photo of his father holding his fist in the air while being guarded by secret service agents in the immediate aftermath of the shooting, stating: \"he'll never stop fighting for america.\" eric trump also posted the photo of his father, adding, \"this is the fighter america needs!\" trump's ex-wife marla maples, who has recently floated the possibility of running as his vice-presidential candidate as he seeks a return to the oval office in november, asked for prayers for him on x.\n",
      "she also requested prayers on behalf of her daughter with trump, tiffany, adding: \"we ... know he is leading on behalf of all of us.\" republican, democratic, and world leaders have issued statements condemning the shooting, which trump said resulted in a bullet piercing the upper part of his right ear.\n",
      "he posted on x, formerly twitter, that \"the american people deserve to know the truth\" and said that the us secret service director, kimberly cheatle, and \"other appropriate officials\" from the department of homeland security and the fbi would be required to appear for congressional hearings as soon as possible.\n",
      "congressman mike turner, the republican chair of the house intelligence committee, said on sunday that \"along with donald trump, our democracy dodged a bullet\" during the shooting in butler country, western pennsylvania.\n",
      "interactive the incident is being investigated as an attempted assassination and is the first time a president or leading party candidate for the white house has been shot since ronald reagan in 1981. bomb-making materials were found in the vehicle and home of the suspect, the wall street journal and the associated press reported on sunday, citing unnamed law enforcement officials.\n",
      "interactive asked how he felt, he told bbc one's sunday with laura kuenssberg: \"i was very upset and i'm still upset. i'm obviously pleased that my friend donald has got away with it, only just, but he's got away with it. the narrative that is put out there about trump by the liberals that oppose him is so nasty, so unpleasant, that i think it almost encourages this type of behaviour.\" farage said he blamed the \"mainstream media narrative\" and \"liberal intolerance\", though he accepted there was violent language used about political opponents. \"i've faced continual attacks for over a decade now because it's me, no one cares - in fact, it's even funny.\" farage, who had milkshake and wet cement thrown at him during the election campaign, said it was making it harder for politicians to meet voters, adding: \"the problem with this is, how do you go out and campaign? \"think of john major 30 years ago, a soapbox in market squares, you couldn't do that today. so we finish up with our political\n",
      "trump's wife, former first lady melania trump, issued a statement saying: \"america, the fabric of our gentle nation is tattered, but our courage and common sense must ascend and bring us back together as one. when i watched that violent bullet strike my husband, donald, i realized my life, and (son) barron's life, were on the brink of devastating change.\" \"a monster who recognized my husband as an inhuman political machine attempted to [w]ring out donald's passion - his laughter, ingenuity, love of music, and inspiration. the core facets of my husband's life - his human side - were buried below the political machine. donald, the generous and caring man who i have been with through the best of times and the worst of times.\" she concluded: \"this morning, ascend above the hate, the vitriol, and the simple- minded ideas that ignite violence.\" the political leanings of crooks were not immediately clear. records show crooks was registered as a republican voter in pennsylvania, but federal\n"
     ]
    }
   ],
   "source": [
    "for doc in retrieved_docs:\n",
    "    print(doc.page_content)"
   ]
  },
  {
   "cell_type": "markdown",
   "metadata": {},
   "source": [
    "### **3) Add LLM**"
   ]
  },
  {
   "cell_type": "code",
   "execution_count": null,
   "metadata": {},
   "outputs": [],
   "source": [
    "from langchain_cohere import ChatCohere\n",
    "from langchain_core.messages import HumanMessage\n",
    "\n",
    "#Init Foundation LLM:\n",
    "llm = ChatCohere()\n",
    "\n",
    "#test:\n",
    "messages = [HumanMessage(content=\"knock knock\")]\n",
    "print(llm.invoke(messages))"
   ]
  },
  {
   "cell_type": "code",
   "execution_count": 26,
   "metadata": {},
   "outputs": [],
   "source": [
    "from langchain.prompts import ChatPromptTemplate\n",
    "\n",
    "#Build prompt:\n",
    "template = \"\"\"You are a journalist and you are giving answers to the audience's questions. Use the following pieces of retrieved context to answer the question. If you know the answer, use five sentences maximum and be as detailed as possible. If you don't know the answer, say that you don't have any information on that, then briefly tell the user what you know on the requested topic in two sentences maximum.\n",
    "\n",
    "Question: {question}\n",
    "\n",
    "Context: {context}\n",
    "\n",
    "Answer:\n",
    "\"\"\"\n",
    "\n",
    "prompt = ChatPromptTemplate.from_template(template)"
   ]
  },
  {
   "cell_type": "markdown",
   "metadata": {},
   "source": [
    "Format documents:"
   ]
  },
  {
   "cell_type": "code",
   "execution_count": 17,
   "metadata": {},
   "outputs": [],
   "source": [
    "# Post-processing\n",
    "def format_docs(docs):\n",
    "    return \"\\n\\n\".join(doc.page_content for doc in docs)"
   ]
  },
  {
   "cell_type": "markdown",
   "metadata": {},
   "source": [
    "Define RAG chain:"
   ]
  },
  {
   "cell_type": "code",
   "execution_count": 27,
   "metadata": {},
   "outputs": [],
   "source": [
    "from langchain_core.output_parsers import StrOutputParser\n",
    "from langchain_core.runnables import RunnablePassthrough\n",
    "\n",
    "rag_chain = (\n",
    "    {\n",
    "        \"context\": retriever | format_docs,\n",
    "        \"question\": RunnablePassthrough()\n",
    "    }\n",
    "    | prompt\n",
    "    | llm\n",
    "    | StrOutputParser()\n",
    ")"
   ]
  },
  {
   "cell_type": "code",
   "execution_count": 28,
   "metadata": {},
   "outputs": [
    {
     "data": {
      "text/plain": [
       "'Yes, Donald Trump is alive. The former president and current Republican nominee for the 2024 election survived an assassination attempt in western Pennsylvania. Trump sustained a non-life-threatening injury to his right ear and is said to be in \"great spirits.\"'"
      ]
     },
     "execution_count": 28,
     "metadata": {},
     "output_type": "execute_result"
    }
   ],
   "source": [
    "rag_chain.invoke(\"Is Donald Trump alive?\")"
   ]
  },
  {
   "cell_type": "code",
   "execution_count": 29,
   "metadata": {},
   "outputs": [
    {
     "data": {
      "text/plain": [
       "'No, Donald Trump is not dead. The former president and current Republican nominee for the 2024 election is in \"great spirits and doing well\" after surviving an apparent assassination attempt at a rally in western Pennsylvania.'"
      ]
     },
     "execution_count": 29,
     "metadata": {},
     "output_type": "execute_result"
    }
   ],
   "source": [
    "rag_chain.invoke(\"Is Donald Trump dead?\")"
   ]
  },
  {
   "cell_type": "code",
   "execution_count": 30,
   "metadata": {},
   "outputs": [
    {
     "name": "stdout",
     "output_type": "stream",
     "text": [
      "Carlos Alcaraz just won Wimbledon, defeating Novak Djokovic in the men's singles final. This is Alcaraz's second consecutive Wimbledon title and fourth major title overall. The final score was 6-2, 6-2, 7-6 (4), with Alcaraz dominating and closing out the match with a brilliant drop shot winner in the tiebreak. At 21 years old, Alcaraz is the first man since Roger Federer to win his first four Grand Slam finals."
     ]
    }
   ],
   "source": [
    "for chunk in rag_chain.stream(\"Who just won Wimbledon?\"):\n",
    "    print(chunk, end=\"\", flush=True)"
   ]
  },
  {
   "cell_type": "code",
   "execution_count": 31,
   "metadata": {},
   "outputs": [
    {
     "name": "stdout",
     "output_type": "stream",
     "text": [
      "I don't have any information on whether Jannik Sinner is still playing in Wimbledon. However, I can tell you that the 2024 Wimbledon tournament is currently ongoing, with the men's singles final having taken place on July 14."
     ]
    }
   ],
   "source": [
    "for chunk in rag_chain.stream(\"Is Jannik Sinner still playing in Wimbledon?\"):\n",
    "    print(chunk, end=\"\", flush=True)"
   ]
  },
  {
   "cell_type": "code",
   "execution_count": 32,
   "metadata": {},
   "outputs": [
    {
     "data": {
      "text/plain": [
       "\"I am a journalist reporting on various events and stories, including the English celebrations for the football team's victory, the Trump rally shooting, and the endurance runner Russ Cook.\""
      ]
     },
     "execution_count": 32,
     "metadata": {},
     "output_type": "execute_result"
    }
   ],
   "source": [
    "rag_chain.invoke(\"Who are you?\")"
   ]
  },
  {
   "cell_type": "code",
   "execution_count": 33,
   "metadata": {},
   "outputs": [
    {
     "data": {
      "text/plain": [
       "'The big game is the Euro 2024 final between England and Spain at the Olympiastadion in Berlin.'"
      ]
     },
     "execution_count": 33,
     "metadata": {},
     "output_type": "execute_result"
    }
   ],
   "source": [
    "rag_chain.invoke(\"Which big game?\")"
   ]
  },
  {
   "cell_type": "code",
   "execution_count": 34,
   "metadata": {},
   "outputs": [
    {
     "data": {
      "text/plain": [
       "\"Yes, I am ready for the final match of Euro 2024 between England and Spain. The game will take place in Berlin, and England's manager Gareth Southgate has stated that his team is ready to face their opponents. This will be a thrilling match, and I am excited to see who will lift the trophy.\""
      ]
     },
     "execution_count": 34,
     "metadata": {},
     "output_type": "execute_result"
    }
   ],
   "source": [
    "rag_chain.invoke(\"Are you ready for the football match?\")"
   ]
  },
  {
   "cell_type": "code",
   "execution_count": 37,
   "metadata": {},
   "outputs": [
    {
     "data": {
      "text/plain": [
       "'No, Italy is not still playing in the European Championship. The context mentions that England lost to Italy in the final of the last Euros. However, it does not specify when this took place.'"
      ]
     },
     "execution_count": 37,
     "metadata": {},
     "output_type": "execute_result"
    }
   ],
   "source": [
    "rag_chain.invoke(\"Is Italy still playing in the European Championship?\")"
   ]
  },
  {
   "cell_type": "code",
   "execution_count": 36,
   "metadata": {},
   "outputs": [
    {
     "data": {
      "text/plain": [
       "'The final of the Euros 2024 will take place on Sunday night at the Olympiastadion in Berlin, Germany.'"
      ]
     },
     "execution_count": 36,
     "metadata": {},
     "output_type": "execute_result"
    }
   ],
   "source": [
    "rag_chain.invoke(\"When is the final?\")"
   ]
  },
  {
   "cell_type": "code",
   "execution_count": 38,
   "metadata": {},
   "outputs": [
    {
     "name": "stdout",
     "output_type": "stream",
     "text": [
      "La Spagna affronterà l'Inghilterra nella finale degli Europei di calcio 2024. Questa sarà la quinta apparizione della Spagna in una finale europea, mentre l'Inghilterra ha raggiunto la finale per la prima volta. La Spagna ha vinto tre dei suoi quattro precedenti apparizioni in finale, mentre l'Inghilterra spera di vincere il suo primo titolo europeo. La partita si preannuncia entusiasmante, con entrambe le squadre determinate a conquistare la vittoria."
     ]
    }
   ],
   "source": [
    "for chunk in rag_chain.stream(\"Dimmi in italiano chi gioca la finale degli europei di calcio?\"):\n",
    "    print(chunk, end=\"\", flush=True)"
   ]
  }
 ],
 "metadata": {
  "kernelspec": {
   "display_name": "Python 3",
   "language": "python",
   "name": "python3"
  },
  "language_info": {
   "codemirror_mode": {
    "name": "ipython",
    "version": 3
   },
   "file_extension": ".py",
   "mimetype": "text/x-python",
   "name": "python",
   "nbconvert_exporter": "python",
   "pygments_lexer": "ipython3",
   "version": "3.10.12"
  }
 },
 "nbformat": 4,
 "nbformat_minor": 2
}
